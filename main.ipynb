{
 "cells": [
  {
   "cell_type": "code",
   "execution_count": 1,
   "metadata": {},
   "outputs": [
    {
     "name": "stdout",
     "output_type": "stream",
     "text": [
      "[*********************100%***********************]  1 of 1 completed\n",
      "[*********************100%***********************]  1 of 1 completed\n",
      "[*********************100%***********************]  1 of 1 completed\n",
      "[*********************100%***********************]  1 of 1 completed\n",
      "[*********************100%***********************]  1 of 1 completed\n",
      "[*********************100%***********************]  1 of 1 completed\n",
      "[*********************100%***********************]  1 of 1 completed\n",
      "[*********************100%***********************]  1 of 1 completed\n",
      "[*********************100%***********************]  1 of 1 completed\n",
      "[*********************100%***********************]  1 of 1 completed\n",
      "[*********************100%***********************]  1 of 1 completed\n",
      "[*********************100%***********************]  1 of 1 completed\n",
      "[*********************100%***********************]  1 of 1 completed\n",
      "[*********************100%***********************]  1 of 1 completed\n",
      "[*********************100%***********************]  1 of 1 completed\n",
      "[*********************100%***********************]  1 of 1 completed\n",
      "[*********************100%***********************]  1 of 1 completed\n",
      "[*********************100%***********************]  1 of 1 completed\n",
      "[*********************100%***********************]  1 of 1 completed\n",
      "[*********************100%***********************]  1 of 1 completed\n",
      "[*********************100%***********************]  1 of 1 completed\n",
      "[*********************100%***********************]  1 of 1 completed\n",
      "[*********************100%***********************]  1 of 1 completed\n",
      "[*********************100%***********************]  1 of 1 completed\n",
      "[*********************100%***********************]  1 of 1 completed\n",
      "[*********************100%***********************]  1 of 1 completed\n",
      "[*********************100%***********************]  1 of 1 completed\n",
      "[*********************100%***********************]  1 of 1 completed\n",
      "[*********************100%***********************]  1 of 1 completed\n",
      "[*********************100%***********************]  1 of 1 completed\n",
      "**************data clean completed**************\n",
      "************add indicators completed************\n"
     ]
    }
   ],
   "source": [
    "from config.config import TRAIN_START_DATE,TRAIN_END_DATE,VALID_START_DATE,VALID_END_DATE,TRADE_START_DATE, TRADE_END_DATE \n",
    "# DATE_SPLIT = [TRAIN_START_DATE,TRAIN_END_DATE,VALID_START_DATE,VALID_END_DATE,TRADE_START_DATE, TRADE_END_DATE]\n",
    "from get_train_valid_trade_data import get_train_valid_trade_data\n",
    "tech_list = ['open', 'high', 'low', 'close', 'volume', 'macd', 'rsi_30', 'cci_30', 'dx_30']\n",
    "# tech_list = ['macd', 'rsi_30', 'cci_30', 'dx_30']\n",
    "feature_list = ['date','tic']+tech_list\n",
    "df, train, valid, trade = get_train_valid_trade_data(feature_list, TRAIN_START_DATE,TRAIN_END_DATE,\n",
    "                                                     VALID_START_DATE,VALID_END_DATE,TRADE_START_DATE, TRADE_END_DATE)"
   ]
  },
  {
   "cell_type": "code",
   "execution_count": 2,
   "metadata": {},
   "outputs": [],
   "source": [
    "df.to_csv('data/df.csv')\n",
    "train.to_csv('data/train.csv')\n",
    "valid.to_csv('data/valid.csv')\n",
    "trade.to_csv('data/trade.csv')"
   ]
  },
  {
   "cell_type": "code",
   "execution_count": 3,
   "metadata": {},
   "outputs": [
    {
     "name": "stdout",
     "output_type": "stream",
     "text": [
      "3524 2768 756\n"
     ]
    }
   ],
   "source": [
    "print(len(df.date.unique()),len(train.date.unique()),len(trade.date.unique()))"
   ]
  },
  {
   "cell_type": "code",
   "execution_count": 3,
   "metadata": {},
   "outputs": [],
   "source": [
    "import pandas as pd\n",
    "\n",
    "df = pd.read_csv('data/df.csv',index_col=0)\n",
    "train = pd.read_csv('data/train.csv',index_col=0)\n",
    "valid = pd.read_csv('data/valid.csv',index_col=0)\n",
    "trade = pd.read_csv('data/trade.csv',index_col=0)"
   ]
  },
  {
   "cell_type": "code",
   "execution_count": 4,
   "metadata": {},
   "outputs": [
    {
     "data": {
      "text/html": [
       "<div>\n",
       "<style scoped>\n",
       "    .dataframe tbody tr th:only-of-type {\n",
       "        vertical-align: middle;\n",
       "    }\n",
       "\n",
       "    .dataframe tbody tr th {\n",
       "        vertical-align: top;\n",
       "    }\n",
       "\n",
       "    .dataframe thead th {\n",
       "        text-align: right;\n",
       "    }\n",
       "</style>\n",
       "<table border=\"1\" class=\"dataframe\">\n",
       "  <thead>\n",
       "    <tr style=\"text-align: right;\">\n",
       "      <th></th>\n",
       "      <th>date</th>\n",
       "      <th>tic</th>\n",
       "      <th>open</th>\n",
       "      <th>high</th>\n",
       "      <th>low</th>\n",
       "      <th>close</th>\n",
       "      <th>volume</th>\n",
       "      <th>macd</th>\n",
       "      <th>rsi_30</th>\n",
       "      <th>cci_30</th>\n",
       "      <th>dx_30</th>\n",
       "    </tr>\n",
       "  </thead>\n",
       "  <tbody>\n",
       "    <tr>\n",
       "      <th>0</th>\n",
       "      <td>2009-01-02</td>\n",
       "      <td>AAPL</td>\n",
       "      <td>3.067143</td>\n",
       "      <td>3.251429</td>\n",
       "      <td>3.041429</td>\n",
       "      <td>2.758535</td>\n",
       "      <td>746015200</td>\n",
       "      <td>-0.062362</td>\n",
       "      <td>46.725278</td>\n",
       "      <td>-32.172209</td>\n",
       "      <td>1.025271</td>\n",
       "    </tr>\n",
       "    <tr>\n",
       "      <th>0</th>\n",
       "      <td>2009-01-02</td>\n",
       "      <td>AMGN</td>\n",
       "      <td>58.590000</td>\n",
       "      <td>59.080002</td>\n",
       "      <td>57.750000</td>\n",
       "      <td>44.219173</td>\n",
       "      <td>6547900</td>\n",
       "      <td>0.253155</td>\n",
       "      <td>53.123318</td>\n",
       "      <td>92.999635</td>\n",
       "      <td>0.505415</td>\n",
       "    </tr>\n",
       "    <tr>\n",
       "      <th>0</th>\n",
       "      <td>2009-01-02</td>\n",
       "      <td>AXP</td>\n",
       "      <td>18.570000</td>\n",
       "      <td>19.520000</td>\n",
       "      <td>18.400000</td>\n",
       "      <td>15.365305</td>\n",
       "      <td>10955700</td>\n",
       "      <td>-0.780727</td>\n",
       "      <td>43.274009</td>\n",
       "      <td>-42.815813</td>\n",
       "      <td>16.568502</td>\n",
       "    </tr>\n",
       "    <tr>\n",
       "      <th>0</th>\n",
       "      <td>2009-01-02</td>\n",
       "      <td>BA</td>\n",
       "      <td>42.799999</td>\n",
       "      <td>45.560001</td>\n",
       "      <td>42.779999</td>\n",
       "      <td>33.941105</td>\n",
       "      <td>7010200</td>\n",
       "      <td>0.062891</td>\n",
       "      <td>51.886236</td>\n",
       "      <td>272.813029</td>\n",
       "      <td>21.032755</td>\n",
       "    </tr>\n",
       "    <tr>\n",
       "      <th>0</th>\n",
       "      <td>2009-01-02</td>\n",
       "      <td>CAT</td>\n",
       "      <td>44.910000</td>\n",
       "      <td>46.980000</td>\n",
       "      <td>44.709999</td>\n",
       "      <td>31.579330</td>\n",
       "      <td>7117200</td>\n",
       "      <td>0.914015</td>\n",
       "      <td>54.622473</td>\n",
       "      <td>129.598670</td>\n",
       "      <td>35.101084</td>\n",
       "    </tr>\n",
       "    <tr>\n",
       "      <th>...</th>\n",
       "      <td>...</td>\n",
       "      <td>...</td>\n",
       "      <td>...</td>\n",
       "      <td>...</td>\n",
       "      <td>...</td>\n",
       "      <td>...</td>\n",
       "      <td>...</td>\n",
       "      <td>...</td>\n",
       "      <td>...</td>\n",
       "      <td>...</td>\n",
       "      <td>...</td>\n",
       "    </tr>\n",
       "    <tr>\n",
       "      <th>1696</th>\n",
       "      <td>2015-09-29</td>\n",
       "      <td>UNH</td>\n",
       "      <td>112.889999</td>\n",
       "      <td>114.860001</td>\n",
       "      <td>111.610001</td>\n",
       "      <td>102.349861</td>\n",
       "      <td>5142700</td>\n",
       "      <td>-0.131473</td>\n",
       "      <td>45.769025</td>\n",
       "      <td>-70.056353</td>\n",
       "      <td>26.948594</td>\n",
       "    </tr>\n",
       "    <tr>\n",
       "      <th>1696</th>\n",
       "      <td>2015-09-29</td>\n",
       "      <td>V</td>\n",
       "      <td>67.519997</td>\n",
       "      <td>68.699997</td>\n",
       "      <td>67.199997</td>\n",
       "      <td>65.108536</td>\n",
       "      <td>11326700</td>\n",
       "      <td>-0.588577</td>\n",
       "      <td>46.072131</td>\n",
       "      <td>-128.791438</td>\n",
       "      <td>25.730401</td>\n",
       "    </tr>\n",
       "    <tr>\n",
       "      <th>1696</th>\n",
       "      <td>2015-09-29</td>\n",
       "      <td>VZ</td>\n",
       "      <td>43.779999</td>\n",
       "      <td>44.000000</td>\n",
       "      <td>43.340000</td>\n",
       "      <td>30.726391</td>\n",
       "      <td>15652500</td>\n",
       "      <td>-0.433850</td>\n",
       "      <td>40.343360</td>\n",
       "      <td>-124.768272</td>\n",
       "      <td>45.371808</td>\n",
       "    </tr>\n",
       "    <tr>\n",
       "      <th>1696</th>\n",
       "      <td>2015-09-29</td>\n",
       "      <td>WBA</td>\n",
       "      <td>82.750000</td>\n",
       "      <td>83.849998</td>\n",
       "      <td>81.449997</td>\n",
       "      <td>65.648201</td>\n",
       "      <td>4483000</td>\n",
       "      <td>-1.176598</td>\n",
       "      <td>40.770999</td>\n",
       "      <td>-154.987223</td>\n",
       "      <td>35.038123</td>\n",
       "    </tr>\n",
       "    <tr>\n",
       "      <th>1696</th>\n",
       "      <td>2015-09-29</td>\n",
       "      <td>WMT</td>\n",
       "      <td>63.750000</td>\n",
       "      <td>64.040001</td>\n",
       "      <td>63.230000</td>\n",
       "      <td>54.680828</td>\n",
       "      <td>7640100</td>\n",
       "      <td>-0.902445</td>\n",
       "      <td>39.199944</td>\n",
       "      <td>-67.211994</td>\n",
       "      <td>26.253268</td>\n",
       "    </tr>\n",
       "  </tbody>\n",
       "</table>\n",
       "<p>49213 rows × 11 columns</p>\n",
       "</div>"
      ],
      "text/plain": [
       "            date   tic        open        high         low       close  \\\n",
       "0     2009-01-02  AAPL    3.067143    3.251429    3.041429    2.758535   \n",
       "0     2009-01-02  AMGN   58.590000   59.080002   57.750000   44.219173   \n",
       "0     2009-01-02   AXP   18.570000   19.520000   18.400000   15.365305   \n",
       "0     2009-01-02    BA   42.799999   45.560001   42.779999   33.941105   \n",
       "0     2009-01-02   CAT   44.910000   46.980000   44.709999   31.579330   \n",
       "...          ...   ...         ...         ...         ...         ...   \n",
       "1696  2015-09-29   UNH  112.889999  114.860001  111.610001  102.349861   \n",
       "1696  2015-09-29     V   67.519997   68.699997   67.199997   65.108536   \n",
       "1696  2015-09-29    VZ   43.779999   44.000000   43.340000   30.726391   \n",
       "1696  2015-09-29   WBA   82.750000   83.849998   81.449997   65.648201   \n",
       "1696  2015-09-29   WMT   63.750000   64.040001   63.230000   54.680828   \n",
       "\n",
       "         volume      macd     rsi_30      cci_30      dx_30  \n",
       "0     746015200 -0.062362  46.725278  -32.172209   1.025271  \n",
       "0       6547900  0.253155  53.123318   92.999635   0.505415  \n",
       "0      10955700 -0.780727  43.274009  -42.815813  16.568502  \n",
       "0       7010200  0.062891  51.886236  272.813029  21.032755  \n",
       "0       7117200  0.914015  54.622473  129.598670  35.101084  \n",
       "...         ...       ...        ...         ...        ...  \n",
       "1696    5142700 -0.131473  45.769025  -70.056353  26.948594  \n",
       "1696   11326700 -0.588577  46.072131 -128.791438  25.730401  \n",
       "1696   15652500 -0.433850  40.343360 -124.768272  45.371808  \n",
       "1696    4483000 -1.176598  40.770999 -154.987223  35.038123  \n",
       "1696    7640100 -0.902445  39.199944  -67.211994  26.253268  \n",
       "\n",
       "[49213 rows x 11 columns]"
      ]
     },
     "execution_count": 4,
     "metadata": {},
     "output_type": "execute_result"
    }
   ],
   "source": [
    "train"
   ]
  },
  {
   "cell_type": "code",
   "execution_count": 5,
   "metadata": {},
   "outputs": [
    {
     "name": "stdout",
     "output_type": "stream",
     "text": [
      "Stock Dimension: 29, State Space: 320\n"
     ]
    },
    {
     "data": {
      "text/plain": [
       "320"
      ]
     },
     "execution_count": 5,
     "metadata": {},
     "output_type": "execute_result"
    }
   ],
   "source": [
    "tech_list = ['open', 'high', 'low', 'close', 'volume', 'macd', 'rsi_30', 'cci_30', 'dx_30']\n",
    "\n",
    "stock_dimension = len(train.tic.unique())\n",
    "state_space = 1 + 2*stock_dimension + len(tech_list)*stock_dimension\n",
    "print(f\"Stock Dimension: {stock_dimension}, State Space: {state_space}\")\n",
    "29*9+29*2+1"
   ]
  },
  {
   "cell_type": "code",
   "execution_count": 6,
   "metadata": {},
   "outputs": [],
   "source": [
    "stock_dim = len(train.tic.unique())\n",
    "# from env.stock_portfolio_env import StockPortfolioEnv\n",
    "from env.PM.env_stocktrading import StockTradingEnv\n",
    "\n",
    "env_kwargs = {\n",
    "    \"stock_dim\": stock_dimension, \n",
    "    \"hmax\": 100, \n",
    "    \"initial_amount\": 1000000, \n",
    "    'num_stock_shares': [0] * stock_dimension,\n",
    "    \"buy_cost_pct\": 0.001, \n",
    "    \"sell_cost_pct\": 0.001, \n",
    "    \"reward_scaling\": 1e-6,   # 1e-4 or 1e-6 ?\n",
    "    \"state_space\": state_space, \n",
    "    \"tech_indicator_list\": tech_list,\n",
    "    \"action_space\": stock_dimension, \n",
    "    'tech_indicator_list': tech_list,\n",
    "    \"print_verbosity\":100  # print per episode\n",
    "}\n",
    "\n",
    "# It will check your custom environment and output additional warnings if needed\n",
    "e_train_gym = StockTradingEnv(df = train, **env_kwargs)\n",
    "from stable_baselines3.common.env_checker import check_env\n",
    "check_env(e_train_gym)\n",
    "e_train_gym = e_train_gym.get_sb_env()"
   ]
  },
  {
   "cell_type": "code",
   "execution_count": 7,
   "metadata": {},
   "outputs": [
    {
     "name": "stdout",
     "output_type": "stream",
     "text": [
      "A2C training start\n",
      "A2C training end\n",
      "PPO training start\n",
      "PPO training end\n",
      "DDPG training start\n",
      "DDPG training end\n"
     ]
    },
    {
     "ename": "KeyError",
     "evalue": "0",
     "output_type": "error",
     "traceback": [
      "\u001b[1;31m---------------------------------------------------------------------------\u001b[0m",
      "\u001b[1;31mKeyError\u001b[0m                                  Traceback (most recent call last)",
      "File \u001b[1;32md:\\Anaconda\\envs\\fin\\lib\\site-packages\\pandas\\core\\indexes\\base.py:3803\u001b[0m, in \u001b[0;36mIndex.get_loc\u001b[1;34m(self, key, method, tolerance)\u001b[0m\n\u001b[0;32m   3802\u001b[0m \u001b[39mtry\u001b[39;00m:\n\u001b[1;32m-> 3803\u001b[0m     \u001b[39mreturn\u001b[39;00m \u001b[39mself\u001b[39;49m\u001b[39m.\u001b[39;49m_engine\u001b[39m.\u001b[39;49mget_loc(casted_key)\n\u001b[0;32m   3804\u001b[0m \u001b[39mexcept\u001b[39;00m \u001b[39mKeyError\u001b[39;00m \u001b[39mas\u001b[39;00m err:\n",
      "File \u001b[1;32md:\\Anaconda\\envs\\fin\\lib\\site-packages\\pandas\\_libs\\index.pyx:138\u001b[0m, in \u001b[0;36mpandas._libs.index.IndexEngine.get_loc\u001b[1;34m()\u001b[0m\n",
      "File \u001b[1;32md:\\Anaconda\\envs\\fin\\lib\\site-packages\\pandas\\_libs\\index.pyx:162\u001b[0m, in \u001b[0;36mpandas._libs.index.IndexEngine.get_loc\u001b[1;34m()\u001b[0m\n",
      "File \u001b[1;32md:\\Anaconda\\envs\\fin\\lib\\site-packages\\pandas\\_libs\\index.pyx:197\u001b[0m, in \u001b[0;36mpandas._libs.index.IndexEngine._get_loc_duplicates\u001b[1;34m()\u001b[0m\n",
      "\u001b[1;31mKeyError\u001b[0m: 0",
      "\nThe above exception was the direct cause of the following exception:\n",
      "\u001b[1;31mKeyError\u001b[0m                                  Traceback (most recent call last)",
      "Cell \u001b[1;32mIn[7], line 4\u001b[0m\n\u001b[0;32m      1\u001b[0m \u001b[39mfrom\u001b[39;00m \u001b[39mrun_train_trade\u001b[39;00m \u001b[39mimport\u001b[39;00m run_train_trade\n\u001b[0;32m      3\u001b[0m TOTAL_TIMESTEPS \u001b[39m=\u001b[39m [\u001b[39m2000\u001b[39m,\u001b[39m2000\u001b[39m,\u001b[39m1000\u001b[39m]\n\u001b[1;32m----> 4\u001b[0m run_train_trade(df, env_kwargs, TOTAL_TIMESTEPS, window_size \u001b[39m=\u001b[39;49m \u001b[39m63\u001b[39;49m)\n",
      "File \u001b[1;32mc:\\Users\\ThinkPad\\Desktop\\code\\Tradeking\\run_train_trade.py:30\u001b[0m, in \u001b[0;36mrun_train_trade\u001b[1;34m(df, env_kwargs, TOTAL_TIMESTEPS, window_size)\u001b[0m\n\u001b[0;32m     27\u001b[0m models\u001b[39m=\u001b[39m{\u001b[39m'\u001b[39m\u001b[39ma2c\u001b[39m\u001b[39m'\u001b[39m:model_a2c,\u001b[39m'\u001b[39m\u001b[39mppo\u001b[39m\u001b[39m'\u001b[39m:model_ppo,\u001b[39m'\u001b[39m\u001b[39mddpg\u001b[39m\u001b[39m'\u001b[39m:model_ddpg}\n\u001b[0;32m     29\u001b[0m trade \u001b[39m=\u001b[39m df\u001b[39m.\u001b[39mloc[day\u001b[39m+\u001b[39mtrain_len:day\u001b[39m+\u001b[39mtrain_len\u001b[39m+\u001b[39mwindow_size]\n\u001b[1;32m---> 30\u001b[0m e_trade_gym \u001b[39m=\u001b[39m StockTradingEnv(df \u001b[39m=\u001b[39m trade, \u001b[39m*\u001b[39m\u001b[39m*\u001b[39menv_kwargs)\u001b[39m.\u001b[39mget_sb_env()\n\u001b[0;32m     32\u001b[0m \u001b[39mfor\u001b[39;00m model_name \u001b[39min\u001b[39;00m [\u001b[39m'\u001b[39m\u001b[39ma2c\u001b[39m\u001b[39m'\u001b[39m,\u001b[39m'\u001b[39m\u001b[39mppo\u001b[39m\u001b[39m'\u001b[39m,\u001b[39m'\u001b[39m\u001b[39mddpg\u001b[39m\u001b[39m'\u001b[39m]:\n\u001b[0;32m     33\u001b[0m     rewards \u001b[39m=\u001b[39m run_trade(e_trade_gym, models, model_name)\n",
      "File \u001b[1;32mc:\\Users\\ThinkPad\\Desktop\\code\\Tradeking\\env\\env_stocktrading.py:64\u001b[0m, in \u001b[0;36mStockTradingEnv.__init__\u001b[1;34m(self, df, stock_dim, hmax, initial_amount, num_stock_shares, buy_cost_pct, sell_cost_pct, reward_scaling, state_space, action_space, tech_indicator_list, turbulence_threshold, risk_indicator_col, make_plots, print_verbosity, day, initial, previous_state, model_name, mode, iteration)\u001b[0m\n\u001b[0;32m     60\u001b[0m \u001b[39mself\u001b[39m\u001b[39m.\u001b[39maction_space \u001b[39m=\u001b[39m spaces\u001b[39m.\u001b[39mBox(low\u001b[39m=\u001b[39m\u001b[39m-\u001b[39m\u001b[39m1\u001b[39m, high\u001b[39m=\u001b[39m\u001b[39m1\u001b[39m, shape\u001b[39m=\u001b[39m(\u001b[39mself\u001b[39m\u001b[39m.\u001b[39maction_space,))\n\u001b[0;32m     61\u001b[0m \u001b[39mself\u001b[39m\u001b[39m.\u001b[39mobservation_space \u001b[39m=\u001b[39m spaces\u001b[39m.\u001b[39mBox(\n\u001b[0;32m     62\u001b[0m     low\u001b[39m=\u001b[39m\u001b[39m-\u001b[39mnp\u001b[39m.\u001b[39minf, high\u001b[39m=\u001b[39mnp\u001b[39m.\u001b[39minf, shape\u001b[39m=\u001b[39m(\u001b[39mself\u001b[39m\u001b[39m.\u001b[39mstate_space,),dtype\u001b[39m=\u001b[39mnp\u001b[39m.\u001b[39mfloat64\n\u001b[0;32m     63\u001b[0m )\n\u001b[1;32m---> 64\u001b[0m \u001b[39mself\u001b[39m\u001b[39m.\u001b[39mdata \u001b[39m=\u001b[39m \u001b[39mself\u001b[39;49m\u001b[39m.\u001b[39;49mdf\u001b[39m.\u001b[39;49mloc[\u001b[39mself\u001b[39;49m\u001b[39m.\u001b[39;49mday, :]\n\u001b[0;32m     65\u001b[0m \u001b[39mself\u001b[39m\u001b[39m.\u001b[39mterminal \u001b[39m=\u001b[39m \u001b[39mFalse\u001b[39;00m\n\u001b[0;32m     66\u001b[0m \u001b[39mself\u001b[39m\u001b[39m.\u001b[39mmake_plots \u001b[39m=\u001b[39m make_plots\n",
      "File \u001b[1;32md:\\Anaconda\\envs\\fin\\lib\\site-packages\\pandas\\core\\indexing.py:1067\u001b[0m, in \u001b[0;36m_LocationIndexer.__getitem__\u001b[1;34m(self, key)\u001b[0m\n\u001b[0;32m   1065\u001b[0m     \u001b[39mif\u001b[39;00m \u001b[39mself\u001b[39m\u001b[39m.\u001b[39m_is_scalar_access(key):\n\u001b[0;32m   1066\u001b[0m         \u001b[39mreturn\u001b[39;00m \u001b[39mself\u001b[39m\u001b[39m.\u001b[39mobj\u001b[39m.\u001b[39m_get_value(\u001b[39m*\u001b[39mkey, takeable\u001b[39m=\u001b[39m\u001b[39mself\u001b[39m\u001b[39m.\u001b[39m_takeable)\n\u001b[1;32m-> 1067\u001b[0m     \u001b[39mreturn\u001b[39;00m \u001b[39mself\u001b[39;49m\u001b[39m.\u001b[39;49m_getitem_tuple(key)\n\u001b[0;32m   1068\u001b[0m \u001b[39melse\u001b[39;00m:\n\u001b[0;32m   1069\u001b[0m     \u001b[39m# we by definition only have the 0th axis\u001b[39;00m\n\u001b[0;32m   1070\u001b[0m     axis \u001b[39m=\u001b[39m \u001b[39mself\u001b[39m\u001b[39m.\u001b[39maxis \u001b[39mor\u001b[39;00m \u001b[39m0\u001b[39m\n",
      "File \u001b[1;32md:\\Anaconda\\envs\\fin\\lib\\site-packages\\pandas\\core\\indexing.py:1247\u001b[0m, in \u001b[0;36m_LocIndexer._getitem_tuple\u001b[1;34m(self, tup)\u001b[0m\n\u001b[0;32m   1245\u001b[0m \u001b[39mwith\u001b[39;00m suppress(IndexingError):\n\u001b[0;32m   1246\u001b[0m     tup \u001b[39m=\u001b[39m \u001b[39mself\u001b[39m\u001b[39m.\u001b[39m_expand_ellipsis(tup)\n\u001b[1;32m-> 1247\u001b[0m     \u001b[39mreturn\u001b[39;00m \u001b[39mself\u001b[39;49m\u001b[39m.\u001b[39;49m_getitem_lowerdim(tup)\n\u001b[0;32m   1249\u001b[0m \u001b[39m# no multi-index, so validate all of the indexers\u001b[39;00m\n\u001b[0;32m   1250\u001b[0m tup \u001b[39m=\u001b[39m \u001b[39mself\u001b[39m\u001b[39m.\u001b[39m_validate_tuple_indexer(tup)\n",
      "File \u001b[1;32md:\\Anaconda\\envs\\fin\\lib\\site-packages\\pandas\\core\\indexing.py:967\u001b[0m, in \u001b[0;36m_LocationIndexer._getitem_lowerdim\u001b[1;34m(self, tup)\u001b[0m\n\u001b[0;32m    963\u001b[0m \u001b[39mfor\u001b[39;00m i, key \u001b[39min\u001b[39;00m \u001b[39menumerate\u001b[39m(tup):\n\u001b[0;32m    964\u001b[0m     \u001b[39mif\u001b[39;00m is_label_like(key):\n\u001b[0;32m    965\u001b[0m         \u001b[39m# We don't need to check for tuples here because those are\u001b[39;00m\n\u001b[0;32m    966\u001b[0m         \u001b[39m#  caught by the _is_nested_tuple_indexer check above.\u001b[39;00m\n\u001b[1;32m--> 967\u001b[0m         section \u001b[39m=\u001b[39m \u001b[39mself\u001b[39;49m\u001b[39m.\u001b[39;49m_getitem_axis(key, axis\u001b[39m=\u001b[39;49mi)\n\u001b[0;32m    969\u001b[0m         \u001b[39m# We should never have a scalar section here, because\u001b[39;00m\n\u001b[0;32m    970\u001b[0m         \u001b[39m#  _getitem_lowerdim is only called after a check for\u001b[39;00m\n\u001b[0;32m    971\u001b[0m         \u001b[39m#  is_scalar_access, which that would be.\u001b[39;00m\n\u001b[0;32m    972\u001b[0m         \u001b[39mif\u001b[39;00m section\u001b[39m.\u001b[39mndim \u001b[39m==\u001b[39m \u001b[39mself\u001b[39m\u001b[39m.\u001b[39mndim:\n\u001b[0;32m    973\u001b[0m             \u001b[39m# we're in the middle of slicing through a MultiIndex\u001b[39;00m\n\u001b[0;32m    974\u001b[0m             \u001b[39m# revise the key wrt to `section` by inserting an _NS\u001b[39;00m\n",
      "File \u001b[1;32md:\\Anaconda\\envs\\fin\\lib\\site-packages\\pandas\\core\\indexing.py:1312\u001b[0m, in \u001b[0;36m_LocIndexer._getitem_axis\u001b[1;34m(self, key, axis)\u001b[0m\n\u001b[0;32m   1310\u001b[0m \u001b[39m# fall thru to straight lookup\u001b[39;00m\n\u001b[0;32m   1311\u001b[0m \u001b[39mself\u001b[39m\u001b[39m.\u001b[39m_validate_key(key, axis)\n\u001b[1;32m-> 1312\u001b[0m \u001b[39mreturn\u001b[39;00m \u001b[39mself\u001b[39;49m\u001b[39m.\u001b[39;49m_get_label(key, axis\u001b[39m=\u001b[39;49maxis)\n",
      "File \u001b[1;32md:\\Anaconda\\envs\\fin\\lib\\site-packages\\pandas\\core\\indexing.py:1260\u001b[0m, in \u001b[0;36m_LocIndexer._get_label\u001b[1;34m(self, label, axis)\u001b[0m\n\u001b[0;32m   1258\u001b[0m \u001b[39mdef\u001b[39;00m \u001b[39m_get_label\u001b[39m(\u001b[39mself\u001b[39m, label, axis: \u001b[39mint\u001b[39m):\n\u001b[0;32m   1259\u001b[0m     \u001b[39m# GH#5567 this will fail if the label is not present in the axis.\u001b[39;00m\n\u001b[1;32m-> 1260\u001b[0m     \u001b[39mreturn\u001b[39;00m \u001b[39mself\u001b[39;49m\u001b[39m.\u001b[39;49mobj\u001b[39m.\u001b[39;49mxs(label, axis\u001b[39m=\u001b[39;49maxis)\n",
      "File \u001b[1;32md:\\Anaconda\\envs\\fin\\lib\\site-packages\\pandas\\core\\generic.py:4056\u001b[0m, in \u001b[0;36mNDFrame.xs\u001b[1;34m(self, key, axis, level, drop_level)\u001b[0m\n\u001b[0;32m   4054\u001b[0m             new_index \u001b[39m=\u001b[39m index[loc]\n\u001b[0;32m   4055\u001b[0m \u001b[39melse\u001b[39;00m:\n\u001b[1;32m-> 4056\u001b[0m     loc \u001b[39m=\u001b[39m index\u001b[39m.\u001b[39;49mget_loc(key)\n\u001b[0;32m   4058\u001b[0m     \u001b[39mif\u001b[39;00m \u001b[39misinstance\u001b[39m(loc, np\u001b[39m.\u001b[39mndarray):\n\u001b[0;32m   4059\u001b[0m         \u001b[39mif\u001b[39;00m loc\u001b[39m.\u001b[39mdtype \u001b[39m==\u001b[39m np\u001b[39m.\u001b[39mbool_:\n",
      "File \u001b[1;32md:\\Anaconda\\envs\\fin\\lib\\site-packages\\pandas\\core\\indexes\\base.py:3805\u001b[0m, in \u001b[0;36mIndex.get_loc\u001b[1;34m(self, key, method, tolerance)\u001b[0m\n\u001b[0;32m   3803\u001b[0m     \u001b[39mreturn\u001b[39;00m \u001b[39mself\u001b[39m\u001b[39m.\u001b[39m_engine\u001b[39m.\u001b[39mget_loc(casted_key)\n\u001b[0;32m   3804\u001b[0m \u001b[39mexcept\u001b[39;00m \u001b[39mKeyError\u001b[39;00m \u001b[39mas\u001b[39;00m err:\n\u001b[1;32m-> 3805\u001b[0m     \u001b[39mraise\u001b[39;00m \u001b[39mKeyError\u001b[39;00m(key) \u001b[39mfrom\u001b[39;00m \u001b[39merr\u001b[39;00m\n\u001b[0;32m   3806\u001b[0m \u001b[39mexcept\u001b[39;00m \u001b[39mTypeError\u001b[39;00m:\n\u001b[0;32m   3807\u001b[0m     \u001b[39m# If we have a listlike key, _check_indexing_error will raise\u001b[39;00m\n\u001b[0;32m   3808\u001b[0m     \u001b[39m#  InvalidIndexError. Otherwise we fall through and re-raise\u001b[39;00m\n\u001b[0;32m   3809\u001b[0m     \u001b[39m#  the TypeError.\u001b[39;00m\n\u001b[0;32m   3810\u001b[0m     \u001b[39mself\u001b[39m\u001b[39m.\u001b[39m_check_indexing_error(key)\n",
      "\u001b[1;31mKeyError\u001b[0m: 0"
     ]
    }
   ],
   "source": [
    "from run_train_trade import run_train_trade\n",
    "\n",
    "TOTAL_TIMESTEPS = [1000,1000,500]\n",
    "run_train_trade(df, env_kwargs, TOTAL_TIMESTEPS, window_size = 63)"
   ]
  },
  {
   "cell_type": "code",
   "execution_count": null,
   "metadata": {},
   "outputs": [
    {
     "name": "stdout",
     "output_type": "stream",
     "text": [
      "[*********************100%***********************]  1 of 1 completed\n"
     ]
    },
    {
     "data": {
      "text/plain": [
       "[<matplotlib.lines.Line2D at 0x1c6ee421f60>]"
      ]
     },
     "execution_count": 12,
     "metadata": {},
     "output_type": "execute_result"
    },
    {
     "data": {
      "image/png": "[encoded data removed]",
      "text/plain": [
       "<Figure size 640x480 with 1 Axes>"
      ]
     },
     "metadata": {},
     "output_type": "display_data"
    }
   ],
   "source": [
    "from data.yahoodownloader import YahooDownloader\n",
    "baseline_df = YahooDownloader(start_date=DATE_SPLIT['TRADE_START_DATE'], \n",
    "                              end_date=DATE_SPLIT['TRADE_END_DATE'], ticker_list=[\"^DJI\"]).fetch_data()\n",
    "import matplotlib.pyplot as plt\n",
    "%matplotlib inline\n",
    "asset_value_a2c = pd.read_csv('results/return_rate_a2c.csv',index_col=0)\n",
    "asset_value_ppo = pd.read_csv('results/return_rate_ppo.csv',index_col=0)\n",
    "asset_value_ddpg = pd.read_csv('results/return_rate_ddpg.csv',index_col=0)\n",
    "\n",
    "plt.plot(asset_value_a2c['0'].values,'r')\n",
    "plt.plot(asset_value_ppo['0'].values,'y')\n",
    "plt.plot(asset_value_ddpg['0'].values,'b')\n",
    "plt.plot(baseline_df.close.values/baseline_df.close[0]-1,'g')"
   ]
  },
  {
   "cell_type": "code",
   "execution_count": null,
   "metadata": {},
   "outputs": [],
   "source": []
  },
  {
   "cell_type": "code",
   "execution_count": null,
   "metadata": {},
   "outputs": [],
   "source": []
  }
 ],
 "metadata": {
  "kernelspec": {
   "display_name": "fin",
   "language": "python",
   "name": "python3"
  },
  "language_info": {
   "codemirror_mode": {
    "name": "ipython",
    "version": 3
   },
   "file_extension": ".py",
   "mimetype": "text/x-python",
   "name": "python",
   "nbconvert_exporter": "python",
   "pygments_lexer": "ipython3",
   "version": "3.10.9"
  },
  "orig_nbformat": 4,
  "vscode": {
   "interpreter": {
    "hash": "9dacd8a2a6226dffaf3526f3785523c2d12ca8b31c48e24f276b3ef0a9ee538e"
   }
  }
 },
 "nbformat": 4,
 "nbformat_minor": 2
}
