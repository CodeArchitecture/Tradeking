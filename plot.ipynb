{
 "cells": [
  {
   "cell_type": "code",
   "execution_count": 5,
   "metadata": {},
   "outputs": [
    {
     "name": "stdout",
     "output_type": "stream",
     "text": [
      "[*********************100%***********************]  1 of 1 completed\n"
     ]
    }
   ],
   "source": [
    "from data.yahoodownloader import YahooDownloader\n",
    "from config.config import TRADE_START_DATE, TRADE_END_DATE\n",
    "baseline_df = YahooDownloader(start_date=TRADE_START_DATE, \n",
    "                              end_date=TRADE_END_DATE, ticker_list=[\"^DJI\"]).fetch_data()\n"
   ]
  },
  {
   "cell_type": "code",
   "execution_count": 28,
   "metadata": {},
   "outputs": [
    {
     "name": "stdout",
     "output_type": "stream",
     "text": [
      "[0.00037157]\n",
      "0\n"
     ]
    }
   ],
   "source": [
    "import matplotlib.pyplot as plt\n",
    "import pandas as pd\n",
    "%matplotlib inline\n",
    "asset_value_a2c = pd.read_csv('results/asset_value_a2c_0.csv',index_col=0)\n",
    "asset_value_ppo = pd.read_csv('results/asset_value_ppo_0.csv',index_col=0)\n",
    "asset_value_ddpg = pd.read_csv('results/asset_value_ddpg_0.csv',index_col=0)\n",
    "# x= [float(i) for i in asset_value_a2c['0'].values.item]\n",
    "\n",
    "\n",
    "x = asset_value_a2c['0'].values[0]\n",
    "print(x)\n",
    "print(x[1])\n",
    "# plt.plot(asset_value_a2c['0'].values,'r')\n",
    "# plt.plot(asset_value_ppo['0'].values.cumsum(),'y')\n",
    "# plt.plot(asset_value_ddpg['0'].values.cumsum(),'b')\n",
    "# plt.plot(baseline_df.close.values/baseline_df.close[0]-1,'g')\n",
    "# plt.legend()"
   ]
  },
  {
   "cell_type": "code",
   "execution_count": 31,
   "metadata": {},
   "outputs": [
    {
     "name": "stdout",
     "output_type": "stream",
     "text": [
      "[1]\n"
     ]
    },
    {
     "data": {
      "text/plain": [
       "1.0"
      ]
     },
     "execution_count": 31,
     "metadata": {},
     "output_type": "execute_result"
    }
   ],
   "source": [
    "import numpy as np\n",
    "x=np.array([1])\n",
    "print(x)\n",
    "float(x)"
   ]
  }
 ],
 "metadata": {
  "kernelspec": {
   "display_name": "fin",
   "language": "python",
   "name": "python3"
  },
  "language_info": {
   "codemirror_mode": {
    "name": "ipython",
    "version": 3
   },
   "file_extension": ".py",
   "mimetype": "text/x-python",
   "name": "python",
   "nbconvert_exporter": "python",
   "pygments_lexer": "ipython3",
   "version": "3.10.9"
  },
  "orig_nbformat": 4,
  "vscode": {
   "interpreter": {
    "hash": "9dacd8a2a6226dffaf3526f3785523c2d12ca8b31c48e24f276b3ef0a9ee538e"
   }
  }
 },
 "nbformat": 4,
 "nbformat_minor": 2
}
